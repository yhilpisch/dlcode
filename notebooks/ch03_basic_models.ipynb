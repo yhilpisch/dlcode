{
 "cells": [
  {
   "cell_type": "markdown",
   "id": "4c9141e3",
   "metadata": {},
   "source": [
    "<img src=\"https://hilpisch.com/tpq_logo.png\" alt=\"The Python Quants\" width=\"35%\" align=\"right\" border=\"0\"><br>\n"
   ]
  },
  {
   "cell_type": "markdown",
   "id": "2dda4a79",
   "metadata": {},
   "source": [
    "# Deep Learning Basics with PyTorch\n",
    "\n",
    "**Dr. Yves J. Hilpisch with GPT-5**\n"
   ]
  },
  {
   "cell_type": "markdown",
   "id": "164684e8",
   "metadata": {},
   "source": [
    "# Chapter 3 — Basic Models in scikit-learn\n",
    "\n",
    "Colab-ready, self-contained notebook with small, visual examples for regression and classification."
   ]
  },
  {
   "cell_type": "code",
   "execution_count": null,
   "id": "d500e9c5",
   "metadata": {
    "id": "setup"
   },
   "outputs": [],
   "source": [
    "# Optional: Colab usually has these\n",
    "# !pip -q install numpy matplotlib scikit-learn\n",
    "import numpy as np\n",
    "import matplotlib.pyplot as plt\n",
    "plt.style.use('seaborn-v0_8')  # plotting\n",
    "from sklearn.model_selection import train_test_split\n",
    "%config InlineBackend.figure_format = 'retina'\n"
   ]
  },
  {
   "cell_type": "markdown",
   "id": "f9b4e5c4",
   "metadata": {},
   "source": [
    "## Noisy line for regression"
   ]
  },
  {
   "cell_type": "code",
   "execution_count": null,
   "id": "a36b233d",
   "metadata": {},
   "outputs": [],
   "source": [
    "rng = np.random.default_rng(0)  # RNG setup\n",
    "Xr = np.linspace(0, 5, 30).reshape(-1, 1)\n",
    "yr = 1.2 * Xr.ravel() + 0.5 + rng.normal(0, 0.35, size = Xr.shape[0])\n",
    "plt.figure(figsize = (4, 3))  # plotting\n",
    "plt.scatter(Xr, yr, s = 20)  # plotting\n",
    "plt.tight_layout()  # plotting\n",
    "plt.show()  # plotting\n"
   ]
  },
  {
   "cell_type": "markdown",
   "id": "086168be",
   "metadata": {},
   "source": [
    "## Linear regression with metrics"
   ]
  },
  {
   "cell_type": "code",
   "execution_count": null,
   "id": "2aacd02e",
   "metadata": {},
   "outputs": [],
   "source": [
    "from sklearn.linear_model import LinearRegression\n",
    "from sklearn.metrics import mean_absolute_error, mean_squared_error, r2_score\n",
    "linreg = LinearRegression().fit(Xr, yr)\n",
    "yr_pred = linreg.predict(Xr)\n",
    "mae = mean_absolute_error(yr, yr_pred)\n",
    "mse = mean_squared_error(yr, yr_pred)\n",
    "r2 = r2_score(yr, yr_pred)\n",
    "linreg.coef_, linreg.intercept_, round(mae, 3), round(mse, 3), round(r2, 3)\n"
   ]
  },
  {
   "cell_type": "code",
   "execution_count": null,
   "id": "3d8f96ab",
   "metadata": {},
   "outputs": [],
   "source": [
    "xx = np.linspace(0, 5, 200).reshape(-1, 1)\n",
    "plt.figure(figsize = (4, 3))  # plotting\n",
    "plt.scatter(Xr, yr, s = 20, label = 'data')  # plotting\n",
    "plt.plot(xx, linreg.predict(xx), 'r-', lw = 2, label = 'fit')  # plotting\n",
    "plt.legend(frameon = False)  # plotting\n",
    "plt.tight_layout()  # plotting\n",
    "plt.show()  # plotting\n"
   ]
  },
  {
   "cell_type": "markdown",
   "id": "c28956ec",
   "metadata": {},
   "source": [
    "## Moons dataset for classification"
   ]
  },
  {
   "cell_type": "code",
   "execution_count": null,
   "id": "d33a70bf",
   "metadata": {},
   "outputs": [],
   "source": [
    "from sklearn.datasets import make_moons\n",
    "Xm, ym = make_moons(n_samples = 300, noise = 0.25, random_state = 0)\n",
    "Xm[:2], ym[:6]\n"
   ]
  },
  {
   "cell_type": "markdown",
   "id": "08ef8e2a",
   "metadata": {},
   "source": [
    "## Logistic regression and confusion matrix"
   ]
  },
  {
   "cell_type": "code",
   "execution_count": null,
   "id": "5d19e05e",
   "metadata": {},
   "outputs": [],
   "source": [
    "from sklearn.linear_model import LogisticRegression\n",
    "from sklearn.metrics import accuracy_score, ConfusionMatrixDisplay\n",
    "Xm_tr, Xm_te, ym_tr, ym_te = train_test_split(Xm, ym, test_size = 0.25,     random_state = 42, stratify = ym)\n",
    "logit = LogisticRegression().fit(Xm_tr, ym_tr)\n",
    "acc = accuracy_score(ym_te, logit.predict(Xm_te))\n",
    "acc\n"
   ]
  },
  {
   "cell_type": "code",
   "execution_count": null,
   "id": "184d6155",
   "metadata": {},
   "outputs": [],
   "source": [
    "ConfusionMatrixDisplay.from_predictions(ym_te, logit.predict(Xm_te))\n",
    "plt.tight_layout()  # plotting\n",
    "plt.show()  # plotting\n"
   ]
  },
  {
   "cell_type": "markdown",
   "id": "d3730f2f",
   "metadata": {},
   "source": [
    "## SVM: linear vs RBF"
   ]
  },
  {
   "cell_type": "code",
   "execution_count": null,
   "id": "aedadbcd",
   "metadata": {},
   "outputs": [],
   "source": [
    "from sklearn.pipeline import make_pipeline\n",
    "from sklearn.preprocessing import StandardScaler\n",
    "from sklearn.svm import SVC\n",
    "logit_pipe = make_pipeline(StandardScaler(),     LogisticRegression(max_iter = 1000)).fit(Xm_tr, ym_tr)\n",
    "rbf_pipe = make_pipeline(StandardScaler(), SVC(kernel = 'rbf', C = 1.0, \n",
    "gamma = 'scale')).fit(Xm_tr, ym_tr)\n",
    "float(accuracy_score(ym_te, logit_pipe.predict(Xm_te))), float(accuracy_score(ym_te, \n",
    "rbf_pipe.predict(Xm_te)))\n"
   ]
  },
  {
   "cell_type": "markdown",
   "id": "75967383",
   "metadata": {},
   "source": [
    "## Decision tree: depth control"
   ]
  },
  {
   "cell_type": "code",
   "execution_count": null,
   "id": "88f82875",
   "metadata": {},
   "outputs": [],
   "source": [
    "from sklearn.tree import DecisionTreeClassifier\n",
    "tree = DecisionTreeClassifier(max_depth = 3, random_state = 0).fit(Xm_tr, ym_tr)\n",
    "(tree.get_depth(), tree.get_n_leaves(), round(tree.score(Xm_tr, ym_tr), 3),     round(tree.score(Xm_te, ym_te), 3))\n"
   ]
  },
  {
   "cell_type": "markdown",
   "id": "cc130b71",
   "metadata": {},
   "source": [
    "## Logistic probability contour (optional)"
   ]
  },
  {
   "cell_type": "code",
   "execution_count": null,
   "id": "85a8211c",
   "metadata": {},
   "outputs": [],
   "source": [
    "from sklearn.pipeline import make_pipeline\n",
    "from sklearn.preprocessing import StandardScaler\n",
    "pipe = make_pipeline(StandardScaler(), LogisticRegression(max_iter = 1000)).fit(Xm, ym)\n",
    "xmin, xmax = Xm[:, 0].min()-0.6, Xm[:, 0].max()+0.6\n",
    "ymin, ymax = Xm[:, 1].min()-0.6, Xm[:, 1].max()+0.6\n",
    "xx, yy = np.meshgrid(np.linspace(xmin, xmax, 200), np.linspace(ymin, ymax, 200))\n",
    "grid = np.c_[xx.ravel(), yy.ravel()]\n",
    "proba = pipe.predict_proba(grid)[:, 1].reshape(xx.shape)\n",
    "plt.figure(figsize = (4.8, 3.6))  # plotting\n",
    "cs = plt.contourf(xx, yy, proba, levels = 21, cmap = 'coolwarm',  # plotting\n",
    "alpha = 0.8)  # plotting\n",
    "plt.contour(xx, yy, proba, levels = [0.5], colors = 'k',  # plotting\n",
    "linewidths = 1.0)  # plotting\n",
    "plt.colorbar(cs, label = 'P(class = 1)')  # plotting\n",
    "plt.xlabel('x1')  # plotting\n",
    "plt.ylabel('x2')  # plotting\n",
    "plt.tight_layout()  # plotting\n",
    "plt.show()  # plotting\n"
   ]
  },
  {
   "cell_type": "markdown",
   "id": "01d10e79",
   "metadata": {},
   "source": [
    "<img src=\"https://hilpisch.com/tpq_logo.png\" alt=\"The Python Quants\" width=\"35%\" align=\"right\" border=\"0\"><br>\n"
   ]
  }
 ],
 "metadata": {
  "colab": {
   "name": "ch03_basic_models.ipynb"
  },
  "kernelspec": {
   "display_name": "Python 3",
   "name": "python3"
  },
  "language_info": {
   "name": "python"
  }
 },
 "nbformat": 4,
 "nbformat_minor": 5
}