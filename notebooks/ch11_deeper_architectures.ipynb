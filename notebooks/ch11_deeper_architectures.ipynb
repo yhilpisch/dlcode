{
 "cells": [
  {
   "cell_type": "markdown",
   "id": "a5096c63",
   "metadata": {},
   "source": [
    "<img src=\"https://hilpisch.com/tpq_logo.png\" alt=\"The Python Quants\" width=\"35%\" align=\"right\" border=\"0\"><br>\n"
   ]
  },
  {
   "cell_type": "markdown",
   "id": "e3fa3021",
   "metadata": {},
   "source": [
    "# Deep Learning Basics with PyTorch\n",
    "\n",
    "**Dr. Yves J. Hilpisch with GPT-5**\n"
   ]
  },
  {
   "cell_type": "markdown",
   "id": "644186e6",
   "metadata": {},
   "source": [
    "# Chapter 11 — Deeper Architectures\n",
    "Convolutions, pooling, and a tiny CNN."
   ]
  },
  {
   "cell_type": "markdown",
   "metadata": {},
   "source": [
    "## Overview\n\n",
    "This notebook provides a concise, hands-on walkthrough of Deep Learning Basics with PyTorch.\n",
    "Use it as a companion to the chapter: run each cell, read the short notes,\n",
    "and try small variations to build intuition.\n\n",
    "Tips:\n",
    "- Run cells top to bottom; restart kernel if state gets confusing.\n",
    "- Prefer small, fast experiments; iterate quickly and observe outputs.\n",
    "- Keep an eye on shapes, dtypes, and devices when using PyTorch.\n"
   ]
  },
  {
   "cell_type": "code",
   "execution_count": null,
   "id": "32c5d4e4",
   "metadata": {},
   "outputs": [],
   "source": [
    "# !pip -q install torch numpy matplotlib\n",
    "import torch, numpy as np, matplotlib.pyplot as plt\n",
    "import torch.nn.functional as F\n",
    "%config InlineBackend.figure_format = 'retina'\n",
    "plt.style.use('seaborn-v0_8') # plotting  # plotting\n"
   ]
  },
  {
   "cell_type": "markdown",
   "id": "ecef117c",
   "metadata": {},
   "source": [
    "## Convolution (toy example)"
   ]
  },
  {
   "cell_type": "code",
   "execution_count": null,
   "id": "c86a46b0",
   "metadata": {},
   "outputs": [],
   "source": [
    "x = torch.zeros(1, 1, 6, 6)\n",
    "x[:, :, 2:4, 2:4] = 1.0\n",
    "k = torch.tensor([[0., 1., 0.], [1., -4., 1.], [0., 1., 0.]]).view(1, 1, 3, 3)\n",
    "y = F.conv2d(x, k, stride = 1, padding = 0) # targets/labels  # targets/labels\n",
    "x.shape, y.shape\n"
   ]
  },
  {
   "cell_type": "markdown",
   "id": "7081f3cb",
   "metadata": {},
   "source": [
    "## Padding vs stride (shapes)\n",
    "\n",
    "Demonstrate how padding/stride affect output size for a 5×5 input and a 3×3 kernel."
   ]
  },
  {
   "cell_type": "code",
   "execution_count": null,
   "id": "93009674",
   "metadata": {},
   "outputs": [],
   "source": [
    "import torch, torch.nn.functional as F\n",
    "x = torch.randn(1, 1, 5, 5)\n",
    "k = torch.ones(1, 1, 3, 3)\n",
    "y1 = F.conv2d(x, k, stride = 1, padding = 0)\n",
    "y2 = F.conv2d(x, k, stride = 1, padding = 1)\n",
    "y3 = F.conv2d(x, k, stride = 2, padding = 0)\n",
    "y1.shape[-2:], y2.shape[-2:], y3.shape[-2:]\n",
    "# (torch.Size([3, 3]), torch.Size([5, 5]), torch.Size([2, 2]))"
   ]
  },
  {
   "cell_type": "markdown",
   "id": "a400ce21",
   "metadata": {},
   "source": [
    "## Tiny CNN (shape tracing)"
   ]
  },
  {
   "cell_type": "code",
   "execution_count": null,
   "id": "8e010461",
   "metadata": {},
   "outputs": [],
   "source": [
    "from torch import nn\n",
    "class TinyCNN(nn.Module):\n",
    "    def __init__(self):\n",
    "        super().__init__()\n",
    "        self.features = nn.Sequential(\n",
    "        nn.Conv2d(1, 8, 3, padding = 1), nn.ReLU(), nn.MaxPool2d(2),\n",
    "        nn.Conv2d(8, 16, 3, padding = 1), nn.ReLU(), nn.MaxPool2d(2)\n",
    "        )\n",
    "        self.classifier = nn.Sequential(nn.Flatten(), nn.Linear(16*7*7, 10))\n",
    "        def forward(self, x): x = self.features(x)\n",
    "        return self.classifier(x)\n",
    "        m = TinyCNN()\n",
    "        x = torch.randn(4, 1, 28, 28)\n",
    "        (x.shape, m.features(x).shape, m(x).shape)\n"
   ]
  },
  {
   "cell_type": "markdown",
   "id": "3f362600",
   "metadata": {},
   "source": [
    "<img src=\"https://hilpisch.com/tpq_logo.png\" alt=\"The Python Quants\" width=\"35%\" align=\"right\" border=\"0\"><br>\n"
   ]
  },
  {
   "cell_type": "markdown",
   "metadata": {},
   "source": [
    "## Exercises\n\n",
    "1. Compute output shapes layer-by-layer for a CNN; verify with a forward pass.\n",
    "2. Visualize feature maps for one input and describe qualitative differences.\n"
   ]
  }
 ],
 "metadata": {
  "kernelspec": {
   "display_name": "Python 3",
   "language": "python",
   "name": "python3"
  }
 },
 "nbformat": 4,
 "nbformat_minor": 5
}
