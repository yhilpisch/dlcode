{
 "cells": [
  {
   "cell_type": "markdown",
   "id": "34dd2f15",
   "metadata": {},
   "source": [
    "<img src=\"https://hilpisch.com/tpq_logo.png\" alt=\"The Python Quants\" width=\"35%\" align=\"right\" border=\"0\"><br>\n"
   ]
  },
  {
   "cell_type": "markdown",
   "id": "f97f5345",
   "metadata": {},
   "source": [
    "# Deep Learning Basics with PyTorch\n",
    "\n",
    "**Dr. Yves J. Hilpisch with GPT-5**\n"
   ]
  },
  {
   "cell_type": "markdown",
   "id": "0caa2b92",
   "metadata": {},
   "source": [
    "# Appendix A — Python & NumPy Refresher\n",
    "\n",
    "Self-contained, Colab-ready notebook covering the Python/NumPy basics used in the book."
   ]
  },
  {
   "cell_type": "code",
   "execution_count": null,
   "id": "4b7d0ecf",
   "metadata": {
    "id": "setup"
   },
   "outputs": [],
   "source": [
    "# Optional: ensure packages are present (Colab usually has these)\n",
    "# !pip -q install numpy matplotlib\n",
    "import numpy as np\n",
    "import matplotlib.pyplot as plt\n",
    "plt.style.use('seaborn-v0_8') # plotting\n",
    "%config InlineBackend.figure_format = 'retina'\n"
   ]
  },
  {
   "cell_type": "markdown",
   "id": "374e53b9",
   "metadata": {},
   "source": [
    "## Quick Python Essentials"
   ]
  },
  {
   "cell_type": "code",
   "execution_count": null,
   "id": "9ee68cd5",
   "metadata": {},
   "outputs": [],
   "source": [
    "x, y = 3, 2.5\n",
    "s = f'x = {x}, y = {y:.1f}'\n",
    "items = [1, 2, 3]\n",
    "items.append(4)\n",
    "s, items\n"
   ]
  },
  {
   "cell_type": "markdown",
   "id": "75aaf04d",
   "metadata": {},
   "source": [
    "## NumPy: Arrays and DTypes"
   ]
  },
  {
   "cell_type": "code",
   "execution_count": null,
   "id": "617a3dab",
   "metadata": {},
   "outputs": [],
   "source": [
    "a = np.array([1, 2, 3], dtype = np.int32)\n",
    "b = np.zeros((2, 3), dtype = np.float32)\n",
    "c = np.linspace(0.0, 1.0, 5)\n",
    "a, a.dtype, b, c\n"
   ]
  },
  {
   "cell_type": "markdown",
   "id": "24138dfc",
   "metadata": {},
   "source": [
    "## Shapes, Indexing, Slicing"
   ]
  },
  {
   "cell_type": "code",
   "execution_count": null,
   "id": "fe981dc4",
   "metadata": {},
   "outputs": [],
   "source": [
    "M = np.arange(12).reshape(3, 4)\n",
    "M, M[0, 2], M[1], M[:, -1], M[::2, 1:3]\n"
   ]
  },
  {
   "cell_type": "markdown",
   "id": "40866db0",
   "metadata": {},
   "source": [
    "## Broadcasting and Vectorization"
   ]
  },
  {
   "cell_type": "code",
   "execution_count": null,
   "id": "8b35845c",
   "metadata": {},
   "outputs": [],
   "source": [
    "v = np.array([10., 20., 30., 40.])\n",
    "w = np.array([1., 2., 3.])\n",
    "M_plus_v = M + v\n",
    "M_plus_wcol = M + w[:, None]\n",
    "M_plus_v, M_plus_wcol\n"
   ]
  },
  {
   "cell_type": "markdown",
   "id": "65e96287",
   "metadata": {},
   "source": [
    "## Random Numbers and Reproducibility"
   ]
  },
  {
   "cell_type": "code",
   "execution_count": null,
   "id": "584c3e89",
   "metadata": {},
   "outputs": [],
   "source": [
    "rng = np.random.default_rng(42) # RNG setup\n",
    "samples = rng.normal(size = 1000)\n",
    "round(samples.mean(), 3), round(samples.std(ddof = 1), 3)\n"
   ]
  },
  {
   "cell_type": "markdown",
   "id": "132352bf",
   "metadata": {},
   "source": [
    "## Linear Algebra in a Nutshell"
   ]
  },
  {
   "cell_type": "code",
   "execution_count": null,
   "id": "7c081fba",
   "metadata": {},
   "outputs": [],
   "source": [
    "A = np.array([[1., 2.], [3., 4.]])\n",
    "x = np.array([5., 6.])\n",
    "A @ x, A.T, round(np.linalg.det(A), 3)\n"
   ]
  },
  {
   "cell_type": "markdown",
   "id": "f2aba400",
   "metadata": {},
   "source": [
    "## Quick Visualizations"
   ]
  },
  {
   "cell_type": "code",
   "execution_count": null,
   "id": "6bade6d6",
   "metadata": {
    "tags": []
   },
   "outputs": [],
   "source": [
    "# Sine and cosine\n",
    "x = np.linspace(0, 2*np.pi, 400)\n",
    "plt.figure(figsize = (4, 3)) # plotting\n",
    "plt.plot(x, np.sin(x), label = 'sin') # plotting\n",
    "plt.plot(x, np.cos(x), label = 'cos') # plotting\n",
    "plt.legend(frameon = False) # plotting\n",
    "plt.tight_layout() # plotting\n",
    "plt.show() # plotting\n"
   ]
  },
  {
   "cell_type": "code",
   "execution_count": null,
   "id": "802ca118",
   "metadata": {},
   "outputs": [],
   "source": [
    "# Histogram\n",
    "x = rng.normal(size = 10_000)\n",
    "plt.figure(figsize = (4, 3)) # plotting\n",
    "plt.hist(x, bins = 40, density = True, alpha = 0.7) # plotting\n",
    "plt.tight_layout() # plotting\n",
    "plt.show() # plotting\n"
   ]
  },
  {
   "cell_type": "code",
   "execution_count": null,
   "id": "d513d28f",
   "metadata": {},
   "outputs": [],
   "source": [
    "# Scatter with broadcasted transform\n",
    "pts = rng.normal(size = (300, 2))\n",
    "shift = np.array([2.0, -1.0])\n",
    "scale = np.array([1.5, 0.5])\n",
    "pts2 = pts*scale + shift\n",
    "plt.figure(figsize = (4, 3)) # plotting\n",
    "plt.scatter(pts[:, 0], pts[:, 1], s = 15, alpha = 0.5,   # plotting\n",
    "label = 'original') # plotting\n",
    "plt.scatter(pts2[:, 0], pts2[:, 1], s = 15, alpha = 0.5, # plotting\n",
    "label = 'broadcasted') # plotting\n",
    "plt.axis('equal') # plotting\n",
    "plt.legend(frameon = False) # plotting\n",
    "plt.tight_layout() # plotting\n",
    "plt.show() # plotting\n"
   ]
  },
  {
   "cell_type": "markdown",
   "id": "a56b1603",
   "metadata": {},
   "source": [
    "<img src=\"https://hilpisch.com/tpq_logo.png\" alt=\"The Python Quants\" width=\"35%\" align=\"right\" border=\"0\"><br>\n"
   ]
  }
 ],
 "metadata": {
  "colab": {
   "name": "appA_python_numpy.ipynb"
  },
  "kernelspec": {
   "display_name": "Python 3",
   "name": "python3"
  },
  "language_info": {
   "name": "python"
  }
 },
 "nbformat": 4,
 "nbformat_minor": 5
}
