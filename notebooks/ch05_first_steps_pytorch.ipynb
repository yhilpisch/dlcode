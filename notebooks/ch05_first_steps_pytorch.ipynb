{
 "cells": [
  {
   "cell_type": "markdown",
   "metadata": {},
   "source": [
    "<img src=\"https://hilpisch.com/tpq_logo.png\" alt=\"The Python Quants\" width=\"35%\" align=\"right\" border=\"0\"><br>\n"
   ]
  },
  {
   "cell_type": "markdown",
   "id": "23d870ba",
   "metadata": {},
   "source": [
    "# Deep Learning Basics with PyTorch\n",
    "\n",
    "**Dr. Yves J. Hilpisch with GPT-5**\n"
   ]
  },
  {
   "cell_type": "markdown",
   "id": "20cc8b16",
   "metadata": {},
   "source": [
    "# Chapter 5 — First Steps with PyTorch\n",
    "Colab-ready notebook covering tensor basics, NumPy interop, broadcasting, and autograd."
   ]
  },
  {
   "cell_type": "markdown",
   "metadata": {},
   "source": [
    "## Overview\n\n",
    "This notebook provides a concise, hands-on walkthrough of Deep Learning Basics with PyTorch.\n",
    "Use it as a companion to the chapter: run each cell, read the short notes,\n",
    "and try small variations to build intuition.\n\n",
    "Tips:\n",
    "- Run cells top to bottom; restart kernel if state gets confusing.\n",
    "- Prefer small, fast experiments; iterate quickly and observe outputs.\n",
    "- Keep an eye on shapes, dtypes, and devices when using PyTorch.\n"
   ]
  },
  {
   "cell_type": "code",
   "execution_count": null,
   "id": "929b24f9",
   "metadata": {
    "id": "setup"
   },
   "outputs": [],
   "source": [
    "# !pip -q install torch numpy matplotlib\n",
    "import torch, numpy as np, matplotlib.pyplot as plt\n",
    "plt.style.use('seaborn-v0_8') # plotting  # plotting\n",
    "%config InlineBackend.figure_format = 'retina'\n"
   ]
  },
  {
   "cell_type": "markdown",
   "id": "bfcf7317",
   "metadata": {},
   "source": [
    "## Tensors: creation, shapes, dtypes, devices"
   ]
  },
  {
   "cell_type": "code",
   "execution_count": null,
   "id": "3dba509f",
   "metadata": {},
   "outputs": [],
   "source": [
    "x = torch.tensor([[1, 2, 3], [4, 5, 6]], dtype = torch.float32)\n",
    "x, x.shape, x.dtype, x.device\n"
   ]
  },
  {
   "cell_type": "code",
   "execution_count": null,
   "id": "882f858f",
   "metadata": {},
   "outputs": [],
   "source": [
    "x.mean(dim = 0), x.mean(dim = 1), x.T\n"
   ]
  },
  {
   "cell_type": "markdown",
   "id": "350ae234",
   "metadata": {},
   "source": [
    "## NumPy interop (zero-copy on CPU)"
   ]
  },
  {
   "cell_type": "code",
   "execution_count": null,
   "id": "b584c7dc",
   "metadata": {},
   "outputs": [],
   "source": [
    "a = np.arange(6, dtype = np.float32).reshape(2, 3)\n",
    "t = torch.from_numpy(a)\n",
    "a*= 10\n",
    "t\n"
   ]
  },
  {
   "cell_type": "code",
   "execution_count": null,
   "id": "51d6b034",
   "metadata": {},
   "outputs": [],
   "source": [
    "u = t.numpy()\n",
    "t += 1\n",
    "u\n"
   ]
  },
  {
   "cell_type": "markdown",
   "id": "fa455910",
   "metadata": {},
   "source": [
    "## Broadcasting demo"
   ]
  },
  {
   "cell_type": "code",
   "execution_count": null,
   "id": "0acb8b9b",
   "metadata": {},
   "outputs": [],
   "source": [
    "a = torch.arange(3.).reshape(3, 1)\n",
    "b = torch.arange(4.).reshape(1, 4)\n",
    "c = a+b\n",
    "c, c.shape\n"
   ]
  },
  {
   "cell_type": "markdown",
   "id": "4f4d8684",
   "metadata": {},
   "source": [
    "## Autograd: scalar gradient"
   ]
  },
  {
   "cell_type": "code",
   "execution_count": null,
   "id": "3d6b0066",
   "metadata": {},
   "outputs": [],
   "source": [
    "w = torch.tensor(4.5, requires_grad = True)\n",
    "f = (w - 2)**2\n",
    "f.backward()\n",
    "# Use .detach().item() to safely convert to Python scalars without autograd warnings\n",
    "w_val = w.detach().item()\n",
    "f_val = f.detach().item()\n",
    "g_val = w.grad.item()\n",
    "w_val, f_val, g_val\n"
   ]
  },
  {
   "cell_type": "code",
   "execution_count": null,
   "id": "85b24598",
   "metadata": {},
   "outputs": [],
   "source": [
    "with torch.no_grad():\n",
    "    w -= 0.3 * w.grad\n",
    "    w.grad.zero_()\n",
    "    # Show the updated parameter value explicitly\n",
    "    w.detach().item()\n"
   ]
  },
  {
   "cell_type": "markdown",
   "metadata": {},
   "source": [
    "## Exercises\n\n",
    "1. Write a small function using broadcasting only; verify shape math explicitly.\n",
    "2. Build a mini autograd example (scalar or vector) and sanity-check gradients.\n"
   ]
  },
  {
   "cell_type": "markdown",
   "metadata": {},
   "source": [
    "<img src=\"https://hilpisch.com/tpq_logo.png\" alt=\"The Python Quants\" width=\"35%\" align=\"right\" border=\"0\"><br>\n"
   ]
  }
 ],
 "metadata": {
  "kernelspec": {
   "display_name": "Python 3",
   "language": "python",
   "name": "python3"
  }
 },
 "nbformat": 4,
 "nbformat_minor": 5
}
