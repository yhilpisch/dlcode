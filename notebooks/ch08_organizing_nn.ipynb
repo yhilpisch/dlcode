{
  "cells": [
    {
      "cell_type": "markdown",
      "id": "42867550",
      "metadata": {},
      "source": [
        "<img src=\"https://hilpisch.com/tpq_logo.png\" alt=\"The Python Quants\" width=\"35%\" align=\"right\" border=\"0\"><br>\n"
      ]
    },
    {
      "cell_type": "markdown",
      "id": "c71e0c7c",
      "metadata": {},
      "source": [
        "# Deep Learning Basics with PyTorch\n",
        "\n",
        "**Dr. Yves J. Hilpisch with GPT-5**\n"
      ]
    },
    {
      "cell_type": "markdown",
      "id": "d8722545",
      "metadata": {},
      "source": [
        "# Chapter 8 \u2014 Organizing Code with torch.nn\n",
        "Refactor the tiny MLP with nn.Module; add train/eval and checkpointing."
      ]
    },
    {
      "cell_type": "code",
      "execution_count": null,
      "id": "97d97e56",
      "metadata": {},
      "outputs": [],
      "source": [
        "# !pip -q install torch numpy matplotlib scikit-learn\n",
        "import torch, numpy as np, matplotlib.pyplot as plt\n",
        "from torch import nn\n",
        "plt.style.use('seaborn-v0_8') # plotting  # plotting\n",
        "from sklearn.datasets import make_moons\n",
        "from sklearn.model_selection import train_test_split\n",
        "%config InlineBackend.figure_format = 'retina'\n"
      ]
    },
    {
      "cell_type": "markdown",
      "id": "22a5fced",
      "metadata": {},
      "source": [
        "## Define model and training helpers"
      ]
    },
    {
      "cell_type": "code",
      "execution_count": null,
      "id": "5c9a301f",
      "metadata": {},
      "outputs": [],
      "source": [
        "class TinyMLP(nn.Module):\n",
        "    def __init__(self, in_dim=2, hidden=16, out_dim=2):\n",
        "        super().__init__()\n",
        "        self.net = nn.Sequential(\n",
        "            nn.Linear(in_dim, hidden),\n",
        "            nn.ReLU(),\n",
        "            nn.Linear(hidden, out_dim),\n",
        "        )\n",
        "\n",
        "    def forward(self, x):\n",
        "        return self.net(x)\n",
        "\n",
        "# Prepare data (moons)\n",
        "X, y = make_moons(n_samples=600, noise=0.25, random_state=0)\n",
        "X_tr, X_te, y_tr, y_te = train_test_split(\n",
        "    X, y, test_size=0.25, random_state=42, stratify=y\n",
        ")\n",
        "X_tr = torch.tensor(X_tr, dtype=torch.float32)\n",
        "X_te = torch.tensor(X_te, dtype=torch.float32)\n",
        "y_tr = torch.tensor(y_tr, dtype=torch.long)\n",
        "y_te = torch.tensor(y_te, dtype=torch.long)\n",
        "\n",
        "# Model, optimizer, loss\n",
        "model = TinyMLP()\n",
        "opt = torch.optim.Adam(model.parameters(), lr=0.01)\n",
        "loss_fn = nn.CrossEntropyLoss()\n",
        "\n",
        "def accuracy(logits, y):\n",
        "    return (logits.argmax(1) == y).float().mean().item()\n"
      ]
    },
    {
      "cell_type": "markdown",
      "id": "1a366f90",
      "metadata": {},
      "source": [
        "## Train and evaluate"
      ]
    },
    {
      "cell_type": "code",
      "execution_count": null,
      "id": "53dfd30a",
      "metadata": {},
      "outputs": [],
      "source": [
        "losses = []\n",
        "acc_history = []\n",
        "for _ in range(50):\n",
        "    model.train()\n",
        "    logits = model(X_tr)  # raw model scores before softmax/sigmoid\n",
        "    loss = loss_fn(logits, y_tr)  # training objective\n",
        "    opt.zero_grad()\n",
        "    loss.backward()\n",
        "    opt.step()\n",
        "    losses.append(float(loss.detach()))\n",
        "\n",
        "    model.eval()\n",
        "    with torch.no_grad():\n",
        "        acc = accuracy(model(X_te), y_te)\n",
        "    acc_history.append(acc)\n",
        "\n",
        "losses[-1], acc_history[-1]\n"
      ]
    },
    {
      "cell_type": "markdown",
      "id": "acb461c8",
      "metadata": {},
      "source": [
        "<img src=\"https://hilpisch.com/tpq_logo.png\" alt=\"The Python Quants\" width=\"35%\" align=\"right\" border=\"0\"><br>\n"
      ]
    }
  ],
  "metadata": {
    "kernelspec": {
      "display_name": "Python 3",
      "language": "python",
      "name": "python3"
    }
  },
  "nbformat": 4,
  "nbformat_minor": 5
}