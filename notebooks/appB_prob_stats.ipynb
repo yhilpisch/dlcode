{
 "cells": [
  {
   "cell_type": "markdown",
   "metadata": {},
   "source": [
    "<img src=\"https://hilpisch.com/tpq_logo.png\" alt=\"The Python Quants\" width=\"35%\" align=\"right\" border=\"0\"><br>",
    "\n"
   ]
  },
  {
   "cell_type": "markdown",
   "metadata": {},
   "source": [
    "# Deep Learning Basics with PyTorch\n\n**Dr. Yves J. Hilpisch with GPT-5**\n"
   ]
  },
  {
   "cell_type": "markdown",
   "metadata": {},
   "source": [
    "# Appendix B — Probability & Statistics Crash Course\n\nColab-ready notebook covering core probability and statistics with small, visual examples."
   ]
  },
  {
   "cell_type": "code",
   "execution_count": null,
   "metadata": {
    "id": "setup"
   },
   "outputs": [],
   "source": [
    "# Optional: ensure packages are present (Colab usually has these)\n",
    "# !pip -q install numpy matplotlib\n",
    "import numpy as np\n",
    "import matplotlib.pyplot as plt\n",
    "plt.style.use('seaborn-v0_8') # plotting\n",
    "%config InlineBackend.figure_format = 'retina'\n"
   ]
  },
  {
   "cell_type": "markdown",
   "metadata": {},
   "source": [
    "## Random Variables and Events"
   ]
  },
  {
   "cell_type": "code",
   "execution_count": null,
   "metadata": {},
   "outputs": [],
   "source": [
    "rng = np.random.default_rng(0) # RNG setup\n",
    "X = (rng.random(10) < 0.3).astype(int) # inputs # inputs  # inputs\n",
    "X, X.mean()\n"
   ]
  },
  {
   "cell_type": "markdown",
   "metadata": {},
   "source": [
    "## Expectation, Variance, Covariance"
   ]
  },
  {
   "cell_type": "code",
   "execution_count": null,
   "metadata": {},
   "outputs": [],
   "source": [
    "x = np.array([1., 2., 3., 4.])\n",
    "y = np.array([1., 2., 2., 5.]) # targets/labels # targets/labels  # targets/labels\n",
    "mu, var = x.mean(), x.var(ddof = 0)\n",
    "cov = ((x - x.mean())*(y - y.mean())).mean()\n",
    "corr = np.corrcoef(x, y)[0, 1]\n",
    "mu, var, round(cov, 3), round(corr, 3)\n"
   ]
  },
  {
   "cell_type": "markdown",
   "metadata": {},
   "source": [
    "## Binomial PMF (n=10, p=0.3)"
   ]
  },
  {
   "cell_type": "code",
   "execution_count": null,
   "metadata": {},
   "outputs": [],
   "source": [
    "from math import comb\n",
    "n, p = 10, 0.3\n",
    "ks = np.arange(0, n+1)\n",
    "pmf = np.array([comb(n, int(k))*(p**k)*((1-p)**(n-k)) for k in ks])\n",
    "pmf.sum(), pmf[:5]\n"
   ]
  },
  {
   "cell_type": "code",
   "execution_count": null,
   "metadata": {},
   "outputs": [],
   "source": [
    "plt.figure(figsize = (4, 3)) # plotting\n",
    "plt.bar(ks, pmf, alpha = 0.8) # plotting\n",
    "plt.xlabel('k (successes)') # plotting\n",
    "plt.ylabel('P(X = k)') # plotting\n",
    "plt.tight_layout() # plotting\n",
    "plt.show() # plotting\n"
   ]
  },
  {
   "cell_type": "markdown",
   "metadata": {},
   "source": [
    "## Standard Normal PDF"
   ]
  },
  {
   "cell_type": "code",
   "execution_count": null,
   "metadata": {},
   "outputs": [],
   "source": [
    "xs = np.linspace(-4, 4, 400)\n",
    "pdf = np.exp(-0.5*xs**2)/np.sqrt(2*np.pi)\n",
    "plt.figure(figsize = (4, 3)) # plotting\n",
    "plt.plot(xs, pdf) # plotting\n",
    "plt.tight_layout() # plotting\n",
    "plt.show() # plotting\n"
   ]
  },
  {
   "cell_type": "markdown",
   "metadata": {},
   "source": [
    "## Law of Large Numbers (running mean)"
   ]
  },
  {
   "cell_type": "code",
   "execution_count": null,
   "metadata": {},
   "outputs": [],
   "source": [
    "rng = np.random.default_rng(1) # RNG setup\n",
    "x = rng.normal(size = 2000)\n",
    "run = np.cumsum(x)/np.arange(1, x.size+1)\n",
    "run[:3].round(3), run[-3:].round(3)\n"
   ]
  },
  {
   "cell_type": "code",
   "execution_count": null,
   "metadata": {},
   "outputs": [],
   "source": [
    "plt.figure(figsize = (4.6, 3.2)) # plotting\n",
    "plt.plot(run, label = 'running mean') # plotting\n",
    "plt.axhline(0.0, color = 'k', lw = 1, alpha = 0.6) # plotting\n",
    "plt.legend(frameon = False) # plotting\n",
    "plt.tight_layout() # plotting\n",
    "plt.show() # plotting\n"
   ]
  },
  {
   "cell_type": "markdown",
   "metadata": {},
   "source": [
    "<img src=\"https://hilpisch.com/tpq_logo.png\" alt=\"The Python Quants\" width=\"35%\" align=\"right\" border=\"0\"><br>",
    "\n"
   ]
  }
 ],
 "metadata": {
  "colab": {
   "name": "appB_prob_stats.ipynb"
  },
  "kernelspec": {
   "display_name": "Python 3",
   "name": "python3"
  },
  "language_info": {
   "name": "python"
  }
 },
 "nbformat": 4,
 "nbformat_minor": 5
}