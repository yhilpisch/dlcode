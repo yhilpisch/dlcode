{
 "cells": [
  {
   "cell_type": "markdown",
   "metadata": {},
   "source": [
    "<img src=\"https://hilpisch.com/tpq_logo.png\" alt=\"The Python Quants\" width=\"35%\" align=\"right\" border=\"0\"><br>",
    "\n"
   ]
  },
  {
   "cell_type": "markdown",
   "metadata": {},
   "source": [
    "# Deep Learning Basics with PyTorch\n\n**Dr. Yves J. Hilpisch with GPT-5**\n"
   ]
  },
  {
   "cell_type": "markdown",
   "id": "ad482823",
   "metadata": {},
   "source": [
    "# Chapter 13 — Sequences and Language Data"
   ]
  },
  {
   "cell_type": "markdown",
   "id": "907b17e2",
   "metadata": {},
   "source": [
    "## Tokenization and padding"
   ]
  },
  {
   "cell_type": "code",
   "execution_count": null,
   "id": "36ecc444",
   "metadata": {},
   "outputs": [],
   "source": [
    "vocab = {'<pad>':0, 'good':1, 'bad':2, 'movie':3}\n",
    "def encode(text, max_len = 6):\n",
    "    ids = [vocab.get(t, 0) for t in text.split()][:max_len]\n",
    "    ids += [0]*(max(0, max_len-len(ids)))\n",
    "    ids\n",
    "    # [1, 3, 0, 0, 0, 0]"
   ]
  },
  {
   "cell_type": "markdown",
   "id": "077ce11b",
   "metadata": {},
   "source": [
    "## Embedding lookup"
   ]
  },
  {
   "cell_type": "code",
   "execution_count": null,
   "id": "207e9e35",
   "metadata": {},
   "outputs": [],
   "source": [
    "import torch\n",
    "emb = torch.nn.Embedding(4, 3)\n",
    "emb(torch.tensor([1, 2])).shape\n",
    "# torch.Size([2, 3])"
   ]
  },
  {
   "cell_type": "markdown",
   "id": "09372bb6",
   "metadata": {},
   "source": [
    "## Tiny sentiment toy (mean embedding)"
   ]
  },
  {
   "cell_type": "code",
   "execution_count": null,
   "id": "4ff39783",
   "metadata": {},
   "outputs": [],
   "source": [
    "import torch, torch.nn.functional as F\n",
    "from torch import nn\n",
    "class MeanEmbedClf(nn.Module):\n",
    "    def __init__(self, vocab_size, d):\n",
    "        super().__init__()\n",
    "        self.emb = nn.Embedding(vocab_size, d)\n",
    "        self.lin = nn.Linear(d, 2)\n",
    "        def forward(self, x):\n",
    "            v = self.emb(x).mean(dim = 1)\n",
    "            return self.lin(v)\n",
    "            x = torch.tensor([[1, 3, 0, 0], [2, 2, 0, 0]])\n",
    "            y = torch.tensor([1, 0]) # targets/labels # targets/labels  # targets/labels\n",
    "            F.cross_entropy(MeanEmbedClf(4, 4) (x), y).item()\n",
    "            # 0.0\n"
   ]
  },
  {
   "cell_type": "markdown",
   "metadata": {},
   "source": [
    "<img src=\"https://hilpisch.com/tpq_logo.png\" alt=\"The Python Quants\" width=\"35%\" align=\"right\" border=\"0\"><br>",
    "\n"
   ]
  }
 ],
 "metadata": {},
 "nbformat": 4,
 "nbformat_minor": 5
}