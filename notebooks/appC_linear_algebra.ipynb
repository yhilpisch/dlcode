{
 "cells": [
  {
   "cell_type": "markdown",
   "id": "5745fdd3",
   "metadata": {},
   "source": [
    "# Deep Learning Basics with PyTorch\n",
    "\n",
    "**Dr. Yves J. Hilpisch with GPT-5**\n"
   ]
  },
  {
   "cell_type": "markdown",
   "id": "5e1ff24f",
   "metadata": {},
   "source": [
    "# Appendix C — Linear Algebra for Deep Learning\n",
    "\n",
    "Colab-ready, self-contained notebook with small, visual examples."
   ]
  },
  {
   "cell_type": "markdown",
   "metadata": {},
   "source": [
    "## Overview\n\n",
    "This notebook provides a concise, hands-on walkthrough of Deep Learning Basics with PyTorch.\n",
    "Use it as a companion to the chapter: run each cell, read the short notes,\n",
    "and try small variations to build intuition.\n\n",
    "Tips:\n",
    "- Run cells top to bottom; restart kernel if state gets confusing.\n",
    "- Prefer small, fast experiments; iterate quickly and observe outputs.\n",
    "- Keep an eye on shapes, dtypes, and devices when using PyTorch.\n"
   ]
  },
  {
   "cell_type": "code",
   "execution_count": null,
   "id": "5764ee4e",
   "metadata": {
    "id": "setup"
   },
   "outputs": [],
   "source": [
    "# Optional: Colab usually has these\n",
    "# !pip -q install numpy matplotlib\n",
    "import numpy as np\n",
    "import matplotlib.pyplot as plt\n",
    "plt.style.use('seaborn-v0_8') # plotting  # plotting\n",
    "%config InlineBackend.figure_format = 'retina'\n"
   ]
  },
  {
   "cell_type": "markdown",
   "id": "cdaba93f",
   "metadata": {},
   "source": [
    "## Vectors, Norms, and Angles"
   ]
  },
  {
   "cell_type": "code",
   "execution_count": null,
   "id": "fef3be9d",
   "metadata": {},
   "outputs": [],
   "source": [
    "u = np.array([2., 1.])\n",
    "v = np.array([1., 3.])\n",
    "dot = u @ v\n",
    "cos = dot/(np.linalg.norm(u)*np.linalg.norm(v))\n",
    "np.linalg.norm(u), np.linalg.norm(v), round(dot, 3), round(cos, 3)\n"
   ]
  },
  {
   "cell_type": "code",
   "execution_count": null,
   "id": "a4ce32b8",
   "metadata": {},
   "outputs": [],
   "source": [
    "# Plot u, v, and a linear combo w = 0.5u + 1.2v\n",
    "a, b = 0.5, 1.2\n",
    "w = a*u + b*v\n",
    "def arrow(ax, origin, vec, **kw):\n",
    "    ox, oy = origin\n",
    "    vx, vy = vec\n",
    "    ax.arrow(ox, oy, vx, vy, head_width = 0.1, length_includes_head = True, \n",
    "        linewidth = 2.4, **kw)\n",
    "    fig, ax = plt.subplots(figsize = (5, 5)) # plotting  # plotting\n",
    "    arrow(ax, (0, 0), u, color = 'C0')\n",
    "    arrow(ax, (0, 0), v, color = 'C1')\n",
    "    arrow(ax, (0, 0), w, color = 'C2')\n",
    "    ax.set_aspect('equal')\n",
    "    ax.set_xlim(-0.5, 5)\n",
    "    ax.set_ylim(-0.5, 5)\n",
    "    ax.grid(True, alpha = 0.2)\n",
    "    ax.legend(['u', 'v', f'{a}u+{b}v'], frameon = False, loc = 'upper right')\n",
    "    ax.set_xlabel('x')\n",
    "    ax.set_ylabel('y')\n",
    "    plt.tight_layout() # plotting  # plotting\n",
    "    plt.show() # plotting  # plotting\n"
   ]
  },
  {
   "cell_type": "markdown",
   "id": "5939daba",
   "metadata": {},
   "source": [
    "## Matrices as Linear Maps"
   ]
  },
  {
   "cell_type": "code",
   "execution_count": null,
   "id": "b75ca0b2",
   "metadata": {},
   "outputs": [],
   "source": [
    "A = np.array([[1.2, 0.4], [0.2, 1.0]])\n",
    "A @ u, A @ v\n"
   ]
  },
  {
   "cell_type": "code",
   "execution_count": null,
   "id": "8421a2a7",
   "metadata": {},
   "outputs": [],
   "source": [
    "# Visualize a transformed grid and unit circle\n",
    "xs = np.linspace(-2, 2, 9)\n",
    "ys = np.linspace(-2, 2, 9)\n",
    "fig, ax = plt.subplots(figsize = (5.2, 4.2)) # plotting  # plotting\n",
    "for x in xs:\n",
    "    line = np.stack([np.full_like(ys, x), ys], axis = 1)\n",
    "    t = (A @ line.T).T\n",
    "    ax.plot(t[:, 0], t[:, 1], color = 'gray', alpha = 0.25, lw = 0.8)\n",
    "    for y in ys:\n",
    "        line = np.stack([xs, np.full_like(xs, y)], axis = 1)\n",
    "        t = (A @ line.T).T\n",
    "        ax.plot(t[:, 0], t[:, 1], color = 'gray', alpha = 0.25, lw = 0.8)\n",
    "        theta = np.linspace(0, 2*np.pi, 300)\n",
    "        circle = np.stack([np.cos(theta), np.sin(theta)], axis = 1)\n",
    "        ell = (A @ circle.T).T\n",
    "        ax.plot(ell[:, 0], ell[:, 1], color = 'C2', lw = 1.6)\n",
    "        ax.set_aspect('equal')\n",
    "        ax.set_xlim(-3, 3)\n",
    "        ax.set_ylim(-3, 3)\n",
    "        ax.set_xlabel('x')\n",
    "        ax.set_ylabel('y')\n",
    "        plt.tight_layout() # plotting  # plotting\n",
    "        plt.show() # plotting  # plotting\n"
   ]
  },
  {
   "cell_type": "markdown",
   "id": "c225c976",
   "metadata": {},
   "source": [
    "## Matrix Multiplication and Shapes"
   ]
  },
  {
   "cell_type": "code",
   "execution_count": null,
   "id": "8b1d0ca3",
   "metadata": {},
   "outputs": [],
   "source": [
    "A = np.array([[1., 2.], [0., 1.]])\n",
    "B = np.array([[2., 0.], [1., 1.]])\n",
    "x = np.array([3., -1.])\n",
    "(B @ A) @ x, B @ (A @ x)\n"
   ]
  },
  {
   "cell_type": "markdown",
   "id": "034d6231",
   "metadata": {},
   "source": [
    "## Transpose, Inverse, Determinant"
   ]
  },
  {
   "cell_type": "code",
   "execution_count": null,
   "id": "2fe70879",
   "metadata": {},
   "outputs": [],
   "source": [
    "M = np.array([[3., 1.], [2., 2.]])\n",
    "M.T, round(np.linalg.det(M), 3), np.allclose(np.linalg.inv(M) @ M, np.eye(2))\n"
   ]
  },
  {
   "cell_type": "markdown",
   "id": "0c68d50c",
   "metadata": {},
   "source": [
    "## Solving Linear Systems"
   ]
  },
  {
   "cell_type": "code",
   "execution_count": null,
   "id": "755c9505",
   "metadata": {},
   "outputs": [],
   "source": [
    "A = np.array([[2., -1.], [1., 1.]])\n",
    "b = np.array([0., 3.])\n",
    "sol = np.linalg.solve(A, b)\n",
    "sol, np.allclose(A @ sol, b)\n"
   ]
  },
  {
   "cell_type": "markdown",
   "id": "e46e6a0f",
   "metadata": {},
   "source": [
    "## Eigenvectors (Quick View)"
   ]
  },
  {
   "cell_type": "code",
   "execution_count": null,
   "id": "93ab4b8f",
   "metadata": {},
   "outputs": [],
   "source": [
    "S = np.array([[2., 1.], [1., 3.]])\n",
    "w, Q = np.linalg.eigh(S)\n",
    "w.round(3), Q\n"
   ]
  },
  {
   "cell_type": "code",
   "execution_count": null,
   "id": "4045c4a0",
   "metadata": {},
   "outputs": [],
   "source": [
    "# Plot eigenvector directions\n",
    "def arrow0(ax, vec, **kw): ax.arrow(0, 0, vec[0], vec[1], head_width = 0.1, length_includes_head = True, linewidth = 2.4, **kw)\n",
    "v1 = Q[:, 0] * w[0]**0.25\n",
    "v2 = Q[:, 1] * w[1]**0.25\n",
    "fig, ax = plt.subplots(figsize = (5, 5)) # plotting  # plotting\n",
    "arrow0(ax, v1, color = 'C0')\n",
    "arrow0(ax, v2, color = 'C1')\n",
    "ax.set_aspect('equal')\n",
    "ax.set_xlim(-2.5, 2.5)\n",
    "ax.set_ylim(-2.5, 2.5)\n",
    "ax.grid(True, alpha = 0.2)\n",
    "ax.set_xlabel('x')\n",
    "ax.set_ylabel('y')\n",
    "plt.tight_layout() # plotting  # plotting\n",
    "plt.show() # plotting  # plotting\n"
   ]
  },
  {
   "cell_type": "markdown",
   "metadata": {},
   "source": [
    "## Exercises\n\n",
    "1. Construct a random matrix and verify properties (rank, eigenvalues) numerically.\n",
    "2. Visualize a 2D linear transform (grid/shape) and decompose it (SVD).\n"
   ]
  },
  {
   "cell_type": "markdown",
   "metadata": {},
   "source": [
    "<img src=\"https://hilpisch.com/tpq_logo.png\" alt=\"The Python Quants\" width=\"35%\" align=\"right\" border=\"0\"><br>\n"
   ]
  }
 ],
 "metadata": {
  "colab": {
   "name": "appC_linear_algebra.ipynb"
  },
  "kernelspec": {
   "display_name": "Python 3",
   "name": "python3"
  },
  "language_info": {
   "name": "python"
  }
 },
 "nbformat": 4,
 "nbformat_minor": 5
}
