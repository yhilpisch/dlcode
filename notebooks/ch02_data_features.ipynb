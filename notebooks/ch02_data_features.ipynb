{
 "cells": [
  {
   "cell_type": "markdown",
   "id": "6c50670e",
   "metadata": {},
   "source": [
    "<img src=\"https://hilpisch.com/tpq_logo.png\" alt=\"The Python Quants\" width=\"35%\" align=\"right\" border=\"0\"><br>\n"
   ]
  },
  {
   "cell_type": "markdown",
   "id": "7e232242",
   "metadata": {},
   "source": [
    "# Deep Learning Basics with PyTorch\n",
    "\n",
    "**Dr. Yves J. Hilpisch with GPT-5**\n"
   ]
  },
  {
   "cell_type": "markdown",
   "id": "752bfbdd",
   "metadata": {},
   "source": [
    "# Chapter 2 — Data, Features, and Representations\n",
    "\n",
    "This Colab-ready notebook mirrors the Iris example: visualization, a scaler+logistic regression pipeline, and a 2D decision boundary."
   ]
  },
  {
   "cell_type": "code",
   "execution_count": null,
   "id": "33a9f744",
   "metadata": {
    "id": "setup"
   },
   "outputs": [],
   "source": [
    "# Optional: ensure packages are present (Colab usually has these)\n",
    "# !pip -q install scikit-learn matplotlib numpy\n",
    "import numpy as np\n",
    "import matplotlib.pyplot as plt\n",
    "plt.style.use('seaborn-v0_8') # plotting\n",
    "from sklearn import datasets\n",
    "from sklearn.model_selection import train_test_split\n",
    "from sklearn.preprocessing import StandardScaler\n",
    "from sklearn.pipeline import make_pipeline\n",
    "from sklearn.linear_model import LogisticRegression\n",
    "from sklearn.metrics import accuracy_score, ConfusionMatrixDisplay\n",
    "%config InlineBackend.figure_format = 'retina'\n"
   ]
  },
  {
   "cell_type": "markdown",
   "id": "2bfad66d",
   "metadata": {},
   "source": [
    "## Load and visualize two features"
   ]
  },
  {
   "cell_type": "code",
   "execution_count": null,
   "id": "32805a95",
   "metadata": {},
   "outputs": [],
   "source": [
    "iris = datasets.load_iris()\n",
    "X = iris.data[:, [2, 3]] # petal length, petal width # inputs # inputs  # inputs\n",
    "y = iris.target # targets/labels # targets/labels  # targets/labels\n",
    "plt.figure(figsize = (4, 3)) # plotting\n",
    "for cls, marker, label in [(0, 'o', iris.target_names[0]), (1, 's',     iris.target_names[1]), (2, '^', iris.target_names[2])]:\n",
    "    idx = y == cls\n",
    "    plt.scatter(X[idx, 0], X[idx, 1], marker = marker, label = label,   # plotting\n",
    "    s = 25) # plotting\n",
    "    plt.xlabel('petal length (cm)') # plotting\n",
    "    plt.ylabel('petal width (cm)') # plotting\n",
    "    plt.legend(frameon = False) # plotting\n",
    "    plt.tight_layout() # plotting\n",
    "    plt.show() # plotting\n"
   ]
  },
  {
   "cell_type": "markdown",
   "id": "c5847550",
   "metadata": {},
   "source": [
    "## Train a scaler + logistic regression pipeline"
   ]
  },
  {
   "cell_type": "code",
   "execution_count": null,
   "id": "3e992fca",
   "metadata": {},
   "outputs": [],
   "source": [
    "X_train, X_test, y_train, y_test = train_test_split(X, y, test_size = 0.25,     random_state = 42, stratify = y)\n",
    "pipe = make_pipeline(StandardScaler(), LogisticRegression(max_iter = 1000))\n",
    "pipe.fit(X_train, y_train)\n",
    "y_pred = pipe.predict(X_test)\n",
    "acc = accuracy_score(y_test, y_pred)\n",
    "print(f'Accuracy: {acc:.3f}')\n",
    "ConfusionMatrixDisplay.from_predictions(y_test, y_pred,     display_labels = iris.target_names)\n",
    "plt.tight_layout() # plotting\n",
    "plt.show() # plotting\n"
   ]
  },
  {
   "cell_type": "markdown",
   "id": "c6ccab6e",
   "metadata": {},
   "source": [
    "## Decision boundary in 2D"
   ]
  },
  {
   "cell_type": "code",
   "execution_count": null,
   "id": "f0c90f23",
   "metadata": {},
   "outputs": [],
   "source": [
    "pipe = make_pipeline(StandardScaler(), LogisticRegression(max_iter = 1000))\n",
    "pipe.fit(X, y)\n",
    "xmin, xmax = X[:, 0].min()-0.5, X[:, 0].max()+0.5\n",
    "ymin, ymax = X[:, 1].min()-0.5, X[:, 1].max()+0.5\n",
    "xx, yy = np.meshgrid(np.linspace(xmin, xmax, 200), np.linspace(ymin, ymax, 200))\n",
    "grid = np.c_[xx.ravel(), yy.ravel()]\n",
    "zz = pipe.predict(grid).reshape(xx.shape)\n",
    "plt.figure(figsize = (4, 3)) # plotting\n",
    "plt.contourf(xx, yy, zz, alpha = 0.2, levels = [-0.5, 0.5, 1.5, 2.5], # plotting\n",
    "cmap = 'coolwarm') # plotting\n",
    "for cls, marker, label in [(0, 'o', iris.target_names[0]), (1, 's',     iris.target_names[1]), (2, '^', iris.target_names[2])]:\n",
    "    idx = y == cls\n",
    "    plt.scatter(X[idx, 0], X[idx, 1], marker = marker, label = label,   # plotting\n",
    "    s = 25) # plotting\n",
    "    plt.xlabel('petal length (cm)') # plotting\n",
    "    plt.ylabel('petal width (cm)') # plotting\n",
    "    plt.legend(frameon = False) # plotting\n",
    "    plt.tight_layout() # plotting\n",
    "    plt.show() # plotting\n"
   ]
  },
  {
   "cell_type": "markdown",
   "id": "c3d403fa",
   "metadata": {},
   "source": [
    "<img src=\"https://hilpisch.com/tpq_logo.png\" alt=\"The Python Quants\" width=\"35%\" align=\"right\" border=\"0\"><br>\n"
   ]
  }
 ],
 "metadata": {
  "colab": {
   "name": "ch02_data_features.ipynb"
  },
  "kernelspec": {
   "display_name": "Python 3",
   "name": "python3"
  },
  "language_info": {
   "name": "python"
  }
 },
 "nbformat": 4,
 "nbformat_minor": 5
}
