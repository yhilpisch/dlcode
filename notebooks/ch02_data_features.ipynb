{
 "cells": [
  {
   "cell_type": "markdown",
   "metadata": {},
   "source": [
    "<img src=\"https://hilpisch.com/tpq_logo.png\" alt=\"The Python Quants\" width=\"35%\" align=\"right\" border=\"0\"><br>\n"
   ]
  },
  {
   "cell_type": "markdown",
   "id": "7e232242",
   "metadata": {},
   "source": [
    "# Deep Learning Basics with PyTorch\n",
    "\n",
    "**Dr. Yves J. Hilpisch with GPT-5**\n"
   ]
  },
  {
   "cell_type": "markdown",
   "id": "752bfbdd",
   "metadata": {},
   "source": [
    "# Chapter 2 — Data, Features, and Representations\n",
    "\n",
    "This Colab-ready notebook mirrors the Iris example: visualization, a scaler+logistic regression pipeline, and a 2D decision boundary."
   ]
  },
  {
   "cell_type": "markdown",
   "metadata": {},
   "source": [
    "## Overview\n\n",
    "This notebook provides a concise, hands-on walkthrough of Deep Learning Basics with PyTorch.\n",
    "Use it as a companion to the chapter: run each cell, read the short notes,\n",
    "and try small variations to build intuition.\n\n",
    "Tips:\n",
    "- Run cells top to bottom; restart kernel if state gets confusing.\n",
    "- Prefer small, fast experiments; iterate quickly and observe outputs.\n",
    "- Keep an eye on shapes, dtypes, and devices when using PyTorch.\n"
   ]
  },
  {
   "cell_type": "markdown",
   "id": "c11bd635",
   "metadata": {},
   "source": [
    "## Highlights\n",
    "\n",
    "- Chapter 2 turns raw measurements into features you can visualise and model.\n",
    "- Comparing petal vs sepal measurements shows why feature choice matters.\n",
    "- Scaling plus logistic regression forms a reliable baseline before trying fancier models.\n",
    "\n",
    "## Guidance\n",
    "\n",
    "1. Explore the Iris dataset and visualise different feature pairs.\n",
    "2. Build intuition about separability before fitting any model.\n",
    "3. Use a pipeline to combine scaling and classification without leakage.\n",
    "4. Interpret the confusion matrix and decision boundary to see what the model learned.\n",
    "\n",
    "## Explanation\n",
    "\n",
    "Treat this notebook as a map of Chapter 2: sketch the data, run a clean train/test split, and relate the geometry of the boundary to model behaviour."
   ]
  },
  {
   "cell_type": "code",
   "execution_count": null,
   "id": "33a9f744",
   "metadata": {
    "id": "setup"
   },
   "outputs": [],
   "source": [
    "  # Optional: ensure packages are present (Colab usually has these)\n",
    "  # !pip -q install scikit-learn matplotlib numpy\n",
    "import numpy as np\n",
    "import matplotlib.pyplot as plt\n",
    "plt.style.use('seaborn-v0_8')  # plotting\n",
    "from sklearn import datasets\n",
    "from sklearn.model_selection import train_test_split\n",
    "from sklearn.preprocessing import StandardScaler\n",
    "from sklearn.pipeline import make_pipeline\n",
    "from sklearn.linear_model import LogisticRegression\n",
    "from sklearn.metrics import accuracy_score, ConfusionMatrixDisplay\n",
    "%config InlineBackend.figure_format = 'retina'\n"
   ]
  },
  {
   "cell_type": "markdown",
   "id": "2bfad66d",
   "metadata": {},
   "source": [
    "## Load and Visualise Petal Features\n",
    "\n",
    "Petal length and width are the most separable pair discussed in the book. Plot them first to see how clearly the species separate in two dimensions."
   ]
  },
  {
   "cell_type": "code",
   "execution_count": null,
   "id": "32805a95",
   "metadata": {},
   "outputs": [],
   "source": [
    "iris = datasets.load_iris()\n",
    "X = iris.data[:, [2, 3]]  # petal length, petal width; inputs\n",
    "y = iris.target  # targets/labels\n",
    "\n",
    "plt.figure(figsize = (4, 3))  # plotting\n",
    "for cls, marker, label in [\n",
    "    (0, 'o', iris.target_names[0]),\n",
    "    (1, 's', iris.target_names[1]),\n",
    "    (2, '^', iris.target_names[2]),\n",
    "]:\n",
    "    idx = y == cls\n",
    "    plt.scatter(X[idx, 0], X[idx, 1], marker = marker, label = label, s = 25)  # plotting\n",
    "\n",
    "plt.xlabel('petal length (cm)')  # plotting\n",
    "plt.ylabel('petal width (cm)')\n",
    "plt.legend(frameon = False)\n",
    "plt.tight_layout()\n",
    "plt.show()\n"
   ]
  },
  {
   "cell_type": "markdown",
   "id": "e784993c",
   "metadata": {},
   "source": [
    "### Explanation\n",
    "\n",
    "- Petal measurements form tight clusters, matching Figure 2 from the chapter.\n",
    "- A quick scatter plot tells you that a linear model should perform well here.\n",
    "- Keep the figure small and readable; you want to spot overlaps at a glance."
   ]
  },
  {
   "cell_type": "markdown",
   "id": "65531966",
   "metadata": {},
   "source": [
    "## Optional: Inspect Sepal Features\n",
    "\n",
    "Sepal length and width are less separable—use this view to contrast with the petal plot and understand why feature choice matters."
   ]
  },
  {
   "cell_type": "code",
   "execution_count": null,
   "id": "c29b1285",
   "metadata": {},
   "outputs": [],
   "source": [
    "X_sepal = iris.data[:, [0, 1]]\n",
    "\n",
    "plt.figure(figsize = (4, 3))  # plotting\n",
    "for cls, marker, label in [\n",
    "    (0, 'o', iris.target_names[0]),\n",
    "    (1, 's', iris.target_names[1]),\n",
    "    (2, '^', iris.target_names[2]),\n",
    "]:\n",
    "    idx = y == cls\n",
    "    plt.scatter(X_sepal[idx, 0], X_sepal[idx, 1], marker = marker, label = label,  # plotting\n",
    "        s = 25)\n",
    "\n",
    "plt.xlabel('sepal length (cm)')  # plotting\n",
    "plt.ylabel('sepal width (cm)')\n",
    "plt.legend(frameon = False)\n",
    "plt.tight_layout()\n",
    "plt.show()\n"
   ]
  },
  {
   "cell_type": "markdown",
   "id": "68c8cf63",
   "metadata": {},
   "source": [
    "### Explanation\n",
    "\n",
    "- Sepal features overlap more, mirroring Figure 3 in the text.\n",
    "- Even with clean data, not every 2D projection separates classes—this motivates feature engineering.\n",
    "- Keep both plots handy when you discuss model performance."
   ]
  },
  {
   "cell_type": "markdown",
   "id": "c5847550",
   "metadata": {},
   "source": [
    "## Train a Scaler + Logistic Regression Pipeline\n",
    "\n",
    "Standardisation prevents any single feature from dominating. The pipeline mirrors the book’s advice against leakage: scale inside the split, then fit the classifier."
   ]
  },
  {
   "cell_type": "code",
   "execution_count": null,
   "id": "3e992fca",
   "metadata": {},
   "outputs": [],
   "source": [
    "X_train, X_test, y_train, y_test = train_test_split(\n",
    "    X, y, test_size = 0.25, random_state = 42, stratify = y\n",
    ")\n",
    "pipe = make_pipeline(StandardScaler(), LogisticRegression(max_iter = 1000))\n",
    "pipe.fit(X_train, y_train)\n",
    "y_pred = pipe.predict(X_test)\n",
    "acc = accuracy_score(y_test, y_pred)\n",
    "print(f\"Accuracy: {acc:.3f}\")\n",
    "ConfusionMatrixDisplay.from_predictions(y_test, y_pred,\n",
    "    display_labels = iris.target_names)\n",
    "plt.tight_layout()  # plotting\n",
    "plt.show()\n"
   ]
  },
  {
   "cell_type": "markdown",
   "id": "f867d0a2",
   "metadata": {},
   "source": [
    "### Explanation\n",
    "\n",
    "- Stratified splits keep class proportions balanced.\n",
    "- Accuracy is high because petal features separate species cleanly.\n",
    "- The confusion matrix reveals whether any class pair still gets mixed up—interpret it before celebrating the score."
   ]
  },
  {
   "cell_type": "markdown",
   "id": "c6ccab6e",
   "metadata": {},
   "source": [
    "## Decision Boundary in 2D\n",
    "\n",
    "Fit on the full dataset to mirror the book’s decision-boundary visual. The contour plot shows how a linear classifier partitions the feature space."
   ]
  },
  {
   "cell_type": "code",
   "execution_count": null,
   "id": "f0c90f23",
   "metadata": {},
   "outputs": [],
   "source": [
    "pipe = make_pipeline(StandardScaler(), LogisticRegression(max_iter = 1000))\n",
    "pipe.fit(X, y)\n",
    "\n",
    "xmin, xmax = X[:, 0].min() - 0.5, X[:, 0].max() + 0.5\n",
    "ymin, ymax = X[:, 1].min() - 0.5, X[:, 1].max() + 0.5\n",
    "xx, yy = np.meshgrid(\n",
    "    np.linspace(xmin, xmax, 200),\n",
    "    np.linspace(ymin, ymax, 200),\n",
    ")\n",
    "zz = pipe.predict(np.c_[xx.ravel(), yy.ravel()]).reshape(xx.shape)\n",
    "\n",
    "plt.figure(figsize = (4, 3))  # plotting\n",
    "plt.contourf(xx, yy, zz, levels = [-0.5, 0.5, 1.5, 2.5], cmap = 'coolwarm', alpha = 0.2)\n",
    "for cls, marker, label in [\n",
    "    (0, 'o', iris.target_names[0]),\n",
    "    (1, 's', iris.target_names[1]),\n",
    "    (2, '^', iris.target_names[2]),\n",
    "]:\n",
    "    idx = y == cls\n",
    "    plt.scatter(X[idx, 0], X[idx, 1], marker = marker, label = label, s = 25)  # plotting\n",
    "\n",
    "plt.xlabel('petal length (cm)')  # plotting\n",
    "plt.ylabel('petal width (cm)')\n",
    "plt.legend(frameon = False)\n",
    "plt.tight_layout()\n",
    "plt.show()\n"
   ]
  },
  {
   "cell_type": "markdown",
   "id": "acba878b",
   "metadata": {},
   "source": [
    "### Explanation\n",
    "\n",
    "- The linear boundary slices the space into three regions; compare it with the scatter to see where margins are tight.\n",
    "- Contour levels align with class labels (0, 1, 2), matching the book’s boundary figure.\n",
    "- Try swapping in sepal features or a non-linear model to reproduce Chapter 2’s “less separable” discussion."
   ]
  },
  {
   "cell_type": "markdown",
   "metadata": {},
   "source": [
    "## Exercises\n\n",
    "1. Create a leakage example and fix it using proper splits and pipelines.\n",
    "2. Compare results with/without standardization for a chosen model.\n"
   ]
  },
  {
   "cell_type": "markdown",
   "metadata": {},
   "source": [
    "<img src=\"https://hilpisch.com/tpq_logo.png\" alt=\"The Python Quants\" width=\"35%\" align=\"right\" border=\"0\"><br>\n"
   ]
  }
 ],
 "metadata": {
  "colab": {
   "name": "ch02_data_features.ipynb"
  },
  "kernelspec": {
   "display_name": "Python 3",
   "name": "python3"
  },
  "language_info": {
   "name": "python"
  }
 },
 "nbformat": 4,
 "nbformat_minor": 5
}
